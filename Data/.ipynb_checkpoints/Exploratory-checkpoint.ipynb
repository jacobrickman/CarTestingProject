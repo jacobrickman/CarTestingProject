{
 "cells": [
  {
   "cell_type": "code",
   "execution_count": 1,
   "metadata": {
    "collapsed": false
   },
   "outputs": [],
   "source": [
    "import pandas as pd\n",
    "import numpy as np"
   ]
  },
  {
   "cell_type": "code",
   "execution_count": 2,
   "metadata": {
    "collapsed": false
   },
   "outputs": [],
   "source": [
    "calibrations_df = pd.read_csv('Calibration.csv', header=None)\n",
    "pressure_df = pd.read_csv('Pressure.csv', header=None)\n",
    "time_df = pd.read_csv('Time.csv', header=None)\n",
    "time_stamps_df = pd.read_csv('Time_Stamps.csv', header=None)"
   ]
  },
  {
   "cell_type": "code",
   "execution_count": 3,
   "metadata": {
    "collapsed": false
   },
   "outputs": [
    {
     "data": {
      "text/plain": [
       "Int64Index([ 0,  1,  2,  3,  4,  5,  6,  7,  8,  9, 10, 11, 12, 13, 14, 15, 16,\n",
       "            17, 18, 19, 20, 21, 22, 23, 24, 25, 26, 27, 28, 29, 30, 31, 32],\n",
       "           dtype='int64')"
      ]
     },
     "execution_count": 3,
     "metadata": {},
     "output_type": "execute_result"
    }
   ],
   "source": [
    "calibrations_df.columns"
   ]
  },
  {
   "cell_type": "code",
   "execution_count": 4,
   "metadata": {
    "collapsed": false
   },
   "outputs": [
    {
     "data": {
      "text/plain": [
       "Int64Index([ 0,  1,  2,  3,  4,  5,  6,  7,  8,  9, 10, 11, 12, 13, 14, 15, 16,\n",
       "            17, 18, 19, 20, 21, 22, 23, 24, 25, 26, 27, 28, 29, 30, 31, 32],\n",
       "           dtype='int64')"
      ]
     },
     "execution_count": 4,
     "metadata": {},
     "output_type": "execute_result"
    }
   ],
   "source": [
    "pressure_df.columns"
   ]
  },
  {
   "cell_type": "code",
   "execution_count": 5,
   "metadata": {
    "collapsed": false
   },
   "outputs": [
    {
     "data": {
      "text/plain": [
       "Int64Index([0], dtype='int64')"
      ]
     },
     "execution_count": 5,
     "metadata": {},
     "output_type": "execute_result"
    }
   ],
   "source": [
    "time_df.columns"
   ]
  },
  {
   "cell_type": "code",
   "execution_count": 6,
   "metadata": {
    "collapsed": false
   },
   "outputs": [
    {
     "data": {
      "text/plain": [
       "Int64Index([0, 1, 2, 3, 4, 5, 6, 7, 8, 9], dtype='int64')"
      ]
     },
     "execution_count": 6,
     "metadata": {},
     "output_type": "execute_result"
    }
   ],
   "source": [
    "time_stamps_df.columns"
   ]
  },
  {
   "cell_type": "code",
   "execution_count": 7,
   "metadata": {
    "collapsed": false
   },
   "outputs": [],
   "source": [
    "pressure_df.columns = ['port_' + str(x+1) for x in pressure_df.columns]\n",
    "calibrations_df.columns = ['port_' + str(x+1) for x in calibrations_df.columns]"
   ]
  },
  {
   "cell_type": "code",
   "execution_count": 8,
   "metadata": {
    "collapsed": false
   },
   "outputs": [],
   "source": [
    "pressure_df['time'] = time_df.values"
   ]
  },
  {
   "cell_type": "code",
   "execution_count": 9,
   "metadata": {
    "collapsed": false
   },
   "outputs": [
    {
     "data": {
      "text/html": [
       "<div>\n",
       "<table border=\"1\" class=\"dataframe\">\n",
       "  <thead>\n",
       "    <tr style=\"text-align: right;\">\n",
       "      <th></th>\n",
       "      <th>port_1</th>\n",
       "      <th>port_2</th>\n",
       "      <th>port_3</th>\n",
       "      <th>port_4</th>\n",
       "      <th>port_5</th>\n",
       "      <th>port_6</th>\n",
       "      <th>port_7</th>\n",
       "      <th>port_8</th>\n",
       "      <th>port_9</th>\n",
       "      <th>port_10</th>\n",
       "      <th>...</th>\n",
       "      <th>port_25</th>\n",
       "      <th>port_26</th>\n",
       "      <th>port_27</th>\n",
       "      <th>port_28</th>\n",
       "      <th>port_29</th>\n",
       "      <th>port_30</th>\n",
       "      <th>port_31</th>\n",
       "      <th>port_32</th>\n",
       "      <th>port_33</th>\n",
       "      <th>time</th>\n",
       "    </tr>\n",
       "  </thead>\n",
       "  <tbody>\n",
       "    <tr>\n",
       "      <th>0</th>\n",
       "      <td>-12.693</td>\n",
       "      <td>-17.483</td>\n",
       "      <td>-15.958</td>\n",
       "      <td>-16.388</td>\n",
       "      <td>-8.0455</td>\n",
       "      <td>-15.060</td>\n",
       "      <td>-16.419</td>\n",
       "      <td>-12.095</td>\n",
       "      <td>-20.580</td>\n",
       "      <td>-13.866</td>\n",
       "      <td>...</td>\n",
       "      <td>-14.880</td>\n",
       "      <td>-11.850</td>\n",
       "      <td>-11.655</td>\n",
       "      <td>-14.272</td>\n",
       "      <td>-13.218</td>\n",
       "      <td>-13.169</td>\n",
       "      <td>-13.605</td>\n",
       "      <td>-14.510</td>\n",
       "      <td>-13.532</td>\n",
       "      <td>644.69</td>\n",
       "    </tr>\n",
       "    <tr>\n",
       "      <th>1</th>\n",
       "      <td>-12.693</td>\n",
       "      <td>-17.650</td>\n",
       "      <td>-15.958</td>\n",
       "      <td>-16.561</td>\n",
       "      <td>-8.3953</td>\n",
       "      <td>-14.889</td>\n",
       "      <td>-16.419</td>\n",
       "      <td>-12.265</td>\n",
       "      <td>-20.401</td>\n",
       "      <td>-14.226</td>\n",
       "      <td>...</td>\n",
       "      <td>-14.534</td>\n",
       "      <td>-12.019</td>\n",
       "      <td>-11.978</td>\n",
       "      <td>-13.932</td>\n",
       "      <td>-13.051</td>\n",
       "      <td>-13.511</td>\n",
       "      <td>-13.605</td>\n",
       "      <td>-14.676</td>\n",
       "      <td>-13.224</td>\n",
       "      <td>645.01</td>\n",
       "    </tr>\n",
       "    <tr>\n",
       "      <th>2</th>\n",
       "      <td>-12.531</td>\n",
       "      <td>-17.483</td>\n",
       "      <td>-15.615</td>\n",
       "      <td>-16.216</td>\n",
       "      <td>-7.8705</td>\n",
       "      <td>-14.718</td>\n",
       "      <td>-16.232</td>\n",
       "      <td>-12.095</td>\n",
       "      <td>-20.401</td>\n",
       "      <td>-13.686</td>\n",
       "      <td>...</td>\n",
       "      <td>-14.534</td>\n",
       "      <td>-11.850</td>\n",
       "      <td>-11.816</td>\n",
       "      <td>-14.102</td>\n",
       "      <td>-12.883</td>\n",
       "      <td>-13.169</td>\n",
       "      <td>-13.438</td>\n",
       "      <td>-14.343</td>\n",
       "      <td>-13.224</td>\n",
       "      <td>645.33</td>\n",
       "    </tr>\n",
       "    <tr>\n",
       "      <th>3</th>\n",
       "      <td>-12.693</td>\n",
       "      <td>-17.983</td>\n",
       "      <td>-15.958</td>\n",
       "      <td>-16.561</td>\n",
       "      <td>-8.2204</td>\n",
       "      <td>-14.889</td>\n",
       "      <td>-16.232</td>\n",
       "      <td>-12.095</td>\n",
       "      <td>-20.401</td>\n",
       "      <td>-14.046</td>\n",
       "      <td>...</td>\n",
       "      <td>-14.707</td>\n",
       "      <td>-12.019</td>\n",
       "      <td>-11.978</td>\n",
       "      <td>-14.272</td>\n",
       "      <td>-13.051</td>\n",
       "      <td>-13.169</td>\n",
       "      <td>-13.438</td>\n",
       "      <td>-14.510</td>\n",
       "      <td>-13.840</td>\n",
       "      <td>645.65</td>\n",
       "    </tr>\n",
       "    <tr>\n",
       "      <th>4</th>\n",
       "      <td>-13.019</td>\n",
       "      <td>-17.983</td>\n",
       "      <td>-15.958</td>\n",
       "      <td>-16.561</td>\n",
       "      <td>-8.7451</td>\n",
       "      <td>-15.231</td>\n",
       "      <td>-16.979</td>\n",
       "      <td>-12.435</td>\n",
       "      <td>-20.759</td>\n",
       "      <td>-14.046</td>\n",
       "      <td>...</td>\n",
       "      <td>-15.226</td>\n",
       "      <td>-12.189</td>\n",
       "      <td>-11.816</td>\n",
       "      <td>-14.102</td>\n",
       "      <td>-13.051</td>\n",
       "      <td>-13.340</td>\n",
       "      <td>-13.773</td>\n",
       "      <td>-14.510</td>\n",
       "      <td>-13.532</td>\n",
       "      <td>645.97</td>\n",
       "    </tr>\n",
       "  </tbody>\n",
       "</table>\n",
       "<p>5 rows × 34 columns</p>\n",
       "</div>"
      ],
      "text/plain": [
       "   port_1  port_2  port_3  port_4  port_5  port_6  port_7  port_8  port_9  \\\n",
       "0 -12.693 -17.483 -15.958 -16.388 -8.0455 -15.060 -16.419 -12.095 -20.580   \n",
       "1 -12.693 -17.650 -15.958 -16.561 -8.3953 -14.889 -16.419 -12.265 -20.401   \n",
       "2 -12.531 -17.483 -15.615 -16.216 -7.8705 -14.718 -16.232 -12.095 -20.401   \n",
       "3 -12.693 -17.983 -15.958 -16.561 -8.2204 -14.889 -16.232 -12.095 -20.401   \n",
       "4 -13.019 -17.983 -15.958 -16.561 -8.7451 -15.231 -16.979 -12.435 -20.759   \n",
       "\n",
       "   port_10   ...    port_25  port_26  port_27  port_28  port_29  port_30  \\\n",
       "0  -13.866   ...    -14.880  -11.850  -11.655  -14.272  -13.218  -13.169   \n",
       "1  -14.226   ...    -14.534  -12.019  -11.978  -13.932  -13.051  -13.511   \n",
       "2  -13.686   ...    -14.534  -11.850  -11.816  -14.102  -12.883  -13.169   \n",
       "3  -14.046   ...    -14.707  -12.019  -11.978  -14.272  -13.051  -13.169   \n",
       "4  -14.046   ...    -15.226  -12.189  -11.816  -14.102  -13.051  -13.340   \n",
       "\n",
       "   port_31  port_32  port_33    time  \n",
       "0  -13.605  -14.510  -13.532  644.69  \n",
       "1  -13.605  -14.676  -13.224  645.01  \n",
       "2  -13.438  -14.343  -13.224  645.33  \n",
       "3  -13.438  -14.510  -13.840  645.65  \n",
       "4  -13.773  -14.510  -13.532  645.97  \n",
       "\n",
       "[5 rows x 34 columns]"
      ]
     },
     "execution_count": 9,
     "metadata": {},
     "output_type": "execute_result"
    }
   ],
   "source": [
    "pressure_df.head()"
   ]
  },
  {
   "cell_type": "code",
   "execution_count": 10,
   "metadata": {
    "collapsed": false
   },
   "outputs": [],
   "source": [
    "time_stamps_df.columns = ['event_' + str(x+1) for x in time_stamps_df.columns]"
   ]
  },
  {
   "cell_type": "code",
   "execution_count": 11,
   "metadata": {
    "collapsed": false
   },
   "outputs": [
    {
     "data": {
      "text/html": [
       "<div>\n",
       "<table border=\"1\" class=\"dataframe\">\n",
       "  <thead>\n",
       "    <tr style=\"text-align: right;\">\n",
       "      <th></th>\n",
       "      <th>event_1</th>\n",
       "      <th>event_2</th>\n",
       "      <th>event_3</th>\n",
       "      <th>event_4</th>\n",
       "      <th>event_5</th>\n",
       "      <th>event_6</th>\n",
       "      <th>event_7</th>\n",
       "      <th>event_8</th>\n",
       "      <th>event_9</th>\n",
       "      <th>event_10</th>\n",
       "    </tr>\n",
       "  </thead>\n",
       "  <tbody>\n",
       "    <tr>\n",
       "      <th>0</th>\n",
       "      <td>745.69</td>\n",
       "      <td>757.69</td>\n",
       "      <td>763.69</td>\n",
       "      <td>775.69</td>\n",
       "      <td>805.69</td>\n",
       "      <td>810.19</td>\n",
       "      <td>815.19</td>\n",
       "      <td>827.69</td>\n",
       "      <td>839.69</td>\n",
       "      <td>848.69</td>\n",
       "    </tr>\n",
       "    <tr>\n",
       "      <th>1</th>\n",
       "      <td>866.69</td>\n",
       "      <td>880.69</td>\n",
       "      <td>885.69</td>\n",
       "      <td>898.69</td>\n",
       "      <td>1041.70</td>\n",
       "      <td>1046.20</td>\n",
       "      <td>1051.20</td>\n",
       "      <td>1063.70</td>\n",
       "      <td>1073.70</td>\n",
       "      <td>1082.70</td>\n",
       "    </tr>\n",
       "    <tr>\n",
       "      <th>2</th>\n",
       "      <td>1101.70</td>\n",
       "      <td>1114.70</td>\n",
       "      <td>1119.70</td>\n",
       "      <td>1132.70</td>\n",
       "      <td>1160.70</td>\n",
       "      <td>1164.20</td>\n",
       "      <td>1169.20</td>\n",
       "      <td>1182.70</td>\n",
       "      <td>1192.70</td>\n",
       "      <td>1201.70</td>\n",
       "    </tr>\n",
       "    <tr>\n",
       "      <th>3</th>\n",
       "      <td>1220.70</td>\n",
       "      <td>1232.70</td>\n",
       "      <td>1237.70</td>\n",
       "      <td>1250.70</td>\n",
       "      <td>1279.70</td>\n",
       "      <td>1283.20</td>\n",
       "      <td>1288.20</td>\n",
       "      <td>1301.70</td>\n",
       "      <td>1310.70</td>\n",
       "      <td>1319.70</td>\n",
       "    </tr>\n",
       "    <tr>\n",
       "      <th>4</th>\n",
       "      <td>1339.70</td>\n",
       "      <td>1351.70</td>\n",
       "      <td>1356.70</td>\n",
       "      <td>1369.70</td>\n",
       "      <td>1397.70</td>\n",
       "      <td>1401.20</td>\n",
       "      <td>1406.20</td>\n",
       "      <td>1419.70</td>\n",
       "      <td>1429.70</td>\n",
       "      <td>1438.70</td>\n",
       "    </tr>\n",
       "    <tr>\n",
       "      <th>5</th>\n",
       "      <td>1458.70</td>\n",
       "      <td>1469.70</td>\n",
       "      <td>1475.70</td>\n",
       "      <td>1488.70</td>\n",
       "      <td>1516.70</td>\n",
       "      <td>1520.20</td>\n",
       "      <td>1525.20</td>\n",
       "      <td>1537.70</td>\n",
       "      <td>1548.70</td>\n",
       "      <td>1557.70</td>\n",
       "    </tr>\n",
       "    <tr>\n",
       "      <th>6</th>\n",
       "      <td>1576.70</td>\n",
       "      <td>1588.70</td>\n",
       "      <td>1593.70</td>\n",
       "      <td>1606.70</td>\n",
       "      <td>1635.70</td>\n",
       "      <td>1639.20</td>\n",
       "      <td>1644.20</td>\n",
       "      <td>1656.70</td>\n",
       "      <td>1667.70</td>\n",
       "      <td>1676.70</td>\n",
       "    </tr>\n",
       "    <tr>\n",
       "      <th>7</th>\n",
       "      <td>1812.70</td>\n",
       "      <td>1824.70</td>\n",
       "      <td>1830.70</td>\n",
       "      <td>1843.70</td>\n",
       "      <td>1871.70</td>\n",
       "      <td>1875.20</td>\n",
       "      <td>1880.20</td>\n",
       "      <td>1893.70</td>\n",
       "      <td>1903.70</td>\n",
       "      <td>1912.70</td>\n",
       "    </tr>\n",
       "    <tr>\n",
       "      <th>8</th>\n",
       "      <td>1931.70</td>\n",
       "      <td>1943.70</td>\n",
       "      <td>1948.70</td>\n",
       "      <td>1961.70</td>\n",
       "      <td>1990.70</td>\n",
       "      <td>1994.20</td>\n",
       "      <td>1999.20</td>\n",
       "      <td>2011.70</td>\n",
       "      <td>2022.70</td>\n",
       "      <td>2031.70</td>\n",
       "    </tr>\n",
       "    <tr>\n",
       "      <th>9</th>\n",
       "      <td>2050.70</td>\n",
       "      <td>2061.70</td>\n",
       "      <td>2067.70</td>\n",
       "      <td>2080.70</td>\n",
       "      <td>2109.70</td>\n",
       "      <td>2113.20</td>\n",
       "      <td>2118.20</td>\n",
       "      <td>2130.70</td>\n",
       "      <td>2141.70</td>\n",
       "      <td>2149.70</td>\n",
       "    </tr>\n",
       "    <tr>\n",
       "      <th>10</th>\n",
       "      <td>2168.70</td>\n",
       "      <td>2180.70</td>\n",
       "      <td>2186.70</td>\n",
       "      <td>2199.70</td>\n",
       "      <td>2227.70</td>\n",
       "      <td>2231.20</td>\n",
       "      <td>2236.20</td>\n",
       "      <td>2249.70</td>\n",
       "      <td>2259.70</td>\n",
       "      <td>2268.70</td>\n",
       "    </tr>\n",
       "    <tr>\n",
       "      <th>11</th>\n",
       "      <td>2287.70</td>\n",
       "      <td>2299.70</td>\n",
       "      <td>2304.70</td>\n",
       "      <td>2317.70</td>\n",
       "      <td>2346.70</td>\n",
       "      <td>2350.20</td>\n",
       "      <td>2355.20</td>\n",
       "      <td>2368.70</td>\n",
       "      <td>2377.70</td>\n",
       "      <td>2387.70</td>\n",
       "    </tr>\n",
       "    <tr>\n",
       "      <th>12</th>\n",
       "      <td>2406.70</td>\n",
       "      <td>2418.70</td>\n",
       "      <td>2423.70</td>\n",
       "      <td>2436.70</td>\n",
       "      <td>2465.70</td>\n",
       "      <td>2469.20</td>\n",
       "      <td>2474.20</td>\n",
       "      <td>2486.70</td>\n",
       "      <td>2496.70</td>\n",
       "      <td>2505.70</td>\n",
       "    </tr>\n",
       "  </tbody>\n",
       "</table>\n",
       "</div>"
      ],
      "text/plain": [
       "    event_1  event_2  event_3  event_4  event_5  event_6  event_7  event_8  \\\n",
       "0    745.69   757.69   763.69   775.69   805.69   810.19   815.19   827.69   \n",
       "1    866.69   880.69   885.69   898.69  1041.70  1046.20  1051.20  1063.70   \n",
       "2   1101.70  1114.70  1119.70  1132.70  1160.70  1164.20  1169.20  1182.70   \n",
       "3   1220.70  1232.70  1237.70  1250.70  1279.70  1283.20  1288.20  1301.70   \n",
       "4   1339.70  1351.70  1356.70  1369.70  1397.70  1401.20  1406.20  1419.70   \n",
       "5   1458.70  1469.70  1475.70  1488.70  1516.70  1520.20  1525.20  1537.70   \n",
       "6   1576.70  1588.70  1593.70  1606.70  1635.70  1639.20  1644.20  1656.70   \n",
       "7   1812.70  1824.70  1830.70  1843.70  1871.70  1875.20  1880.20  1893.70   \n",
       "8   1931.70  1943.70  1948.70  1961.70  1990.70  1994.20  1999.20  2011.70   \n",
       "9   2050.70  2061.70  2067.70  2080.70  2109.70  2113.20  2118.20  2130.70   \n",
       "10  2168.70  2180.70  2186.70  2199.70  2227.70  2231.20  2236.20  2249.70   \n",
       "11  2287.70  2299.70  2304.70  2317.70  2346.70  2350.20  2355.20  2368.70   \n",
       "12  2406.70  2418.70  2423.70  2436.70  2465.70  2469.20  2474.20  2486.70   \n",
       "\n",
       "    event_9  event_10  \n",
       "0    839.69    848.69  \n",
       "1   1073.70   1082.70  \n",
       "2   1192.70   1201.70  \n",
       "3   1310.70   1319.70  \n",
       "4   1429.70   1438.70  \n",
       "5   1548.70   1557.70  \n",
       "6   1667.70   1676.70  \n",
       "7   1903.70   1912.70  \n",
       "8   2022.70   2031.70  \n",
       "9   2141.70   2149.70  \n",
       "10  2259.70   2268.70  \n",
       "11  2377.70   2387.70  \n",
       "12  2496.70   2505.70  "
      ]
     },
     "execution_count": 11,
     "metadata": {},
     "output_type": "execute_result"
    }
   ],
   "source": [
    "time_stamps_df"
   ]
  },
  {
   "cell_type": "code",
   "execution_count": 12,
   "metadata": {
    "collapsed": false
   },
   "outputs": [],
   "source": [
    "time_stamps_df = pd.concat([time_stamps_df, time_stamps_df['event_1'].iloc[1:].reset_index(drop=True).rename(\n",
    "                            'event_10_stop')],\n",
    "                             axis=1)"
   ]
  },
  {
   "cell_type": "code",
   "execution_count": 13,
   "metadata": {
    "collapsed": true
   },
   "outputs": [],
   "source": [
    "time_stamps_df['key'] = 1\n",
    "pressure_df['key'] = 1"
   ]
  },
  {
   "cell_type": "code",
   "execution_count": 14,
   "metadata": {
    "collapsed": false
   },
   "outputs": [],
   "source": [
    "time_stamps_df['lap_#'] = ['lap_' + str(x+1) for x in time_stamps_df.index]"
   ]
  },
  {
   "cell_type": "code",
   "execution_count": 15,
   "metadata": {
    "collapsed": true
   },
   "outputs": [],
   "source": [
    "pressure_df = pressure_df.merge(time_stamps_df, on='key')"
   ]
  },
  {
   "cell_type": "code",
   "execution_count": 16,
   "metadata": {
    "collapsed": false
   },
   "outputs": [],
   "source": [
    "pressure_df = pressure_df[(pressure_df.time < pressure_df['event_10_stop']) &\n",
    "                          (pressure_df.time >= pressure_df['event_1'])]"
   ]
  },
  {
   "cell_type": "code",
   "execution_count": 17,
   "metadata": {
    "collapsed": true
   },
   "outputs": [],
   "source": [
    "def label_event(row):\n",
    "    \n",
    "    if row['time'] >= row['event_1'] and row['time'] < row['event_2']:\n",
    "        return 'event_1'\n",
    "    elif row['time'] >= row['event_2'] and row['time'] < row['event_3']:\n",
    "        return 'event_2'\n",
    "    elif row['time'] >= row['event_3'] and row['time'] < row['event_4']:\n",
    "        return 'event_3'\n",
    "    elif row['time'] >= row['event_4'] and row['time'] < row['event_5']:\n",
    "        return 'event_4'\n",
    "    elif row['time'] >= row['event_5'] and row['time'] < row['event_6']:\n",
    "        return 'event_5'\n",
    "    elif row['time'] >= row['event_6'] and row['time'] < row['event_7']:\n",
    "        return 'event_6'\n",
    "    elif row['time'] >= row['event_7'] and row['time'] < row['event_8']:\n",
    "        return 'event_7'\n",
    "    elif row['time'] >= row['event_8'] and row['time'] < row['event_9']:\n",
    "        return 'event_8'\n",
    "    elif row['time'] >= row['event_9'] and row['time'] < row['event_10']:\n",
    "        return 'event_9'\n",
    "    elif row['time'] >= row['event_10'] and row['time'] < row['event_10_stop']:\n",
    "        return 'event_10'\n",
    "    else:\n",
    "        assert False\n",
    "\n",
    "    \n",
    "        "
   ]
  },
  {
   "cell_type": "code",
   "execution_count": 18,
   "metadata": {
    "collapsed": false
   },
   "outputs": [],
   "source": [
    "pressure_df['event_label'] = pressure_df.apply(label_event, axis=1)"
   ]
  },
  {
   "cell_type": "code",
   "execution_count": 19,
   "metadata": {
    "collapsed": true
   },
   "outputs": [],
   "source": [
    "columns = [x for x in pressure_df.columns if ('port' in x or \n",
    "                                              'label' in x or \n",
    "                                               x == 'time' or \n",
    "                                              'lap' in x)]"
   ]
  },
  {
   "cell_type": "code",
   "execution_count": 20,
   "metadata": {
    "collapsed": true
   },
   "outputs": [],
   "source": [
    "pressure_df = pressure_df[columns]"
   ]
  },
  {
   "cell_type": "code",
   "execution_count": 21,
   "metadata": {
    "collapsed": false
   },
   "outputs": [
    {
     "data": {
      "text/html": [
       "<div>\n",
       "<table border=\"1\" class=\"dataframe\">\n",
       "  <thead>\n",
       "    <tr style=\"text-align: right;\">\n",
       "      <th></th>\n",
       "      <th>port_1</th>\n",
       "      <th>port_2</th>\n",
       "      <th>port_3</th>\n",
       "      <th>port_4</th>\n",
       "      <th>port_5</th>\n",
       "      <th>port_6</th>\n",
       "      <th>port_7</th>\n",
       "      <th>port_8</th>\n",
       "      <th>port_9</th>\n",
       "      <th>port_10</th>\n",
       "      <th>...</th>\n",
       "      <th>port_27</th>\n",
       "      <th>port_28</th>\n",
       "      <th>port_29</th>\n",
       "      <th>port_30</th>\n",
       "      <th>port_31</th>\n",
       "      <th>port_32</th>\n",
       "      <th>port_33</th>\n",
       "      <th>time</th>\n",
       "      <th>lap_#</th>\n",
       "      <th>event_label</th>\n",
       "    </tr>\n",
       "  </thead>\n",
       "  <tbody>\n",
       "    <tr>\n",
       "      <th>4108</th>\n",
       "      <td>10.5530</td>\n",
       "      <td>5.4805</td>\n",
       "      <td>7.5359</td>\n",
       "      <td>10.6810</td>\n",
       "      <td>34.085</td>\n",
       "      <td>10.7590</td>\n",
       "      <td>9.8740</td>\n",
       "      <td>14.431</td>\n",
       "      <td>3.9323</td>\n",
       "      <td>6.6479</td>\n",
       "      <td>...</td>\n",
       "      <td>9.8541</td>\n",
       "      <td>7.1143</td>\n",
       "      <td>7.6787</td>\n",
       "      <td>-1.7097</td>\n",
       "      <td>6.5419</td>\n",
       "      <td>5.4914</td>\n",
       "      <td>-4.3047</td>\n",
       "      <td>745.81</td>\n",
       "      <td>lap_1</td>\n",
       "      <td>event_1</td>\n",
       "    </tr>\n",
       "    <tr>\n",
       "      <th>4121</th>\n",
       "      <td>10.0660</td>\n",
       "      <td>5.1484</td>\n",
       "      <td>7.1934</td>\n",
       "      <td>9.3030</td>\n",
       "      <td>31.463</td>\n",
       "      <td>10.4170</td>\n",
       "      <td>9.8740</td>\n",
       "      <td>14.262</td>\n",
       "      <td>3.3961</td>\n",
       "      <td>7.5463</td>\n",
       "      <td>...</td>\n",
       "      <td>8.8849</td>\n",
       "      <td>7.4531</td>\n",
       "      <td>8.8472</td>\n",
       "      <td>-1.3678</td>\n",
       "      <td>7.3806</td>\n",
       "      <td>6.4898</td>\n",
       "      <td>-3.9972</td>\n",
       "      <td>746.13</td>\n",
       "      <td>lap_1</td>\n",
       "      <td>event_1</td>\n",
       "    </tr>\n",
       "    <tr>\n",
       "      <th>4134</th>\n",
       "      <td>9.4162</td>\n",
       "      <td>4.8162</td>\n",
       "      <td>6.6796</td>\n",
       "      <td>8.7862</td>\n",
       "      <td>31.114</td>\n",
       "      <td>8.7093</td>\n",
       "      <td>8.7561</td>\n",
       "      <td>13.922</td>\n",
       "      <td>3.7536</td>\n",
       "      <td>6.6479</td>\n",
       "      <td>...</td>\n",
       "      <td>6.9464</td>\n",
       "      <td>5.5898</td>\n",
       "      <td>6.8440</td>\n",
       "      <td>-2.2226</td>\n",
       "      <td>6.2064</td>\n",
       "      <td>5.3250</td>\n",
       "      <td>-4.6122</td>\n",
       "      <td>746.45</td>\n",
       "      <td>lap_1</td>\n",
       "      <td>event_1</td>\n",
       "    </tr>\n",
       "    <tr>\n",
       "      <th>4147</th>\n",
       "      <td>9.4162</td>\n",
       "      <td>4.6501</td>\n",
       "      <td>6.8508</td>\n",
       "      <td>10.1640</td>\n",
       "      <td>30.589</td>\n",
       "      <td>9.3924</td>\n",
       "      <td>9.1287</td>\n",
       "      <td>13.413</td>\n",
       "      <td>4.4686</td>\n",
       "      <td>7.5463</td>\n",
       "      <td>...</td>\n",
       "      <td>7.5925</td>\n",
       "      <td>5.4204</td>\n",
       "      <td>7.0110</td>\n",
       "      <td>-2.2226</td>\n",
       "      <td>5.5354</td>\n",
       "      <td>4.4930</td>\n",
       "      <td>-5.2272</td>\n",
       "      <td>746.77</td>\n",
       "      <td>lap_1</td>\n",
       "      <td>event_1</td>\n",
       "    </tr>\n",
       "    <tr>\n",
       "      <th>4160</th>\n",
       "      <td>8.7668</td>\n",
       "      <td>3.9858</td>\n",
       "      <td>5.8232</td>\n",
       "      <td>8.9584</td>\n",
       "      <td>28.492</td>\n",
       "      <td>8.7093</td>\n",
       "      <td>8.0109</td>\n",
       "      <td>12.564</td>\n",
       "      <td>2.1449</td>\n",
       "      <td>5.9292</td>\n",
       "      <td>...</td>\n",
       "      <td>7.2694</td>\n",
       "      <td>5.0817</td>\n",
       "      <td>6.0094</td>\n",
       "      <td>-2.2226</td>\n",
       "      <td>5.5354</td>\n",
       "      <td>4.4930</td>\n",
       "      <td>-5.8421</td>\n",
       "      <td>747.09</td>\n",
       "      <td>lap_1</td>\n",
       "      <td>event_1</td>\n",
       "    </tr>\n",
       "  </tbody>\n",
       "</table>\n",
       "<p>5 rows × 36 columns</p>\n",
       "</div>"
      ],
      "text/plain": [
       "       port_1  port_2  port_3   port_4  port_5   port_6  port_7  port_8  \\\n",
       "4108  10.5530  5.4805  7.5359  10.6810  34.085  10.7590  9.8740  14.431   \n",
       "4121  10.0660  5.1484  7.1934   9.3030  31.463  10.4170  9.8740  14.262   \n",
       "4134   9.4162  4.8162  6.6796   8.7862  31.114   8.7093  8.7561  13.922   \n",
       "4147   9.4162  4.6501  6.8508  10.1640  30.589   9.3924  9.1287  13.413   \n",
       "4160   8.7668  3.9858  5.8232   8.9584  28.492   8.7093  8.0109  12.564   \n",
       "\n",
       "      port_9  port_10     ...       port_27  port_28  port_29  port_30  \\\n",
       "4108  3.9323   6.6479     ...        9.8541   7.1143   7.6787  -1.7097   \n",
       "4121  3.3961   7.5463     ...        8.8849   7.4531   8.8472  -1.3678   \n",
       "4134  3.7536   6.6479     ...        6.9464   5.5898   6.8440  -2.2226   \n",
       "4147  4.4686   7.5463     ...        7.5925   5.4204   7.0110  -2.2226   \n",
       "4160  2.1449   5.9292     ...        7.2694   5.0817   6.0094  -2.2226   \n",
       "\n",
       "      port_31  port_32  port_33    time  lap_#  event_label  \n",
       "4108   6.5419   5.4914  -4.3047  745.81  lap_1      event_1  \n",
       "4121   7.3806   6.4898  -3.9972  746.13  lap_1      event_1  \n",
       "4134   6.2064   5.3250  -4.6122  746.45  lap_1      event_1  \n",
       "4147   5.5354   4.4930  -5.2272  746.77  lap_1      event_1  \n",
       "4160   5.5354   4.4930  -5.8421  747.09  lap_1      event_1  \n",
       "\n",
       "[5 rows x 36 columns]"
      ]
     },
     "execution_count": 21,
     "metadata": {},
     "output_type": "execute_result"
    }
   ],
   "source": [
    "pressure_df.head()"
   ]
  },
  {
   "cell_type": "code",
   "execution_count": 22,
   "metadata": {
    "collapsed": false
   },
   "outputs": [],
   "source": [
    "groups = pressure_df.groupby(['lap_#', 'event_label'])\n",
    "data = groups.mean().reset_index()"
   ]
  },
  {
   "cell_type": "code",
   "execution_count": 23,
   "metadata": {
    "collapsed": false
   },
   "outputs": [],
   "source": [
    "data = data.drop('time', axis=1)"
   ]
  },
  {
   "cell_type": "code",
   "execution_count": 28,
   "metadata": {
    "collapsed": false
   },
   "outputs": [],
   "source": [
    "from sklearn.linear_model import LogisticRegression\n",
    "from sklearn.model_selection import cross_val_score\n",
    "from sklearn.svm import SVC\n",
    "from sklearn.naive_bayes import GaussianNB\n",
    "from sklearn.ensemble import RandomForestClassifier\n"
   ]
  },
  {
   "cell_type": "code",
   "execution_count": 29,
   "metadata": {
    "collapsed": false
   },
   "outputs": [],
   "source": [
    "X = pressure_df[[x for x in pressure_df if 'port' in x]]\n",
    "y = pressure_df.event_label"
   ]
  },
  {
   "cell_type": "code",
   "execution_count": 30,
   "metadata": {
    "collapsed": false
   },
   "outputs": [
    {
     "data": {
      "text/plain": [
       "array([ 0.6753507 ,  0.65461847,  0.50905433,  0.64919355,  0.625     ])"
      ]
     },
     "execution_count": 30,
     "metadata": {},
     "output_type": "execute_result"
    }
   ],
   "source": [
    "clf = LogisticRegression()\n",
    "scores = cross_val_score(clf, X, y, cv=5)\n",
    "scores"
   ]
  },
  {
   "cell_type": "code",
   "execution_count": 31,
   "metadata": {
    "collapsed": false
   },
   "outputs": [
    {
     "data": {
      "text/plain": [
       "array([ 0.65230461,  0.65361446,  0.49798793,  0.63508065,  0.67540323])"
      ]
     },
     "execution_count": 31,
     "metadata": {},
     "output_type": "execute_result"
    }
   ],
   "source": [
    "clf = SVC()\n",
    "scores = cross_val_score(clf, X, y, cv=5)\n",
    "scores"
   ]
  },
  {
   "cell_type": "code",
   "execution_count": 33,
   "metadata": {
    "collapsed": false
   },
   "outputs": [
    {
     "data": {
      "text/plain": [
       "array([ 0.61523046,  0.60742972,  0.48289738,  0.60887097,  0.60685484])"
      ]
     },
     "execution_count": 33,
     "metadata": {},
     "output_type": "execute_result"
    }
   ],
   "source": [
    "clf = RandomForestClassifier()\n",
    "scores = cross_val_score(clf, X, y, cv=5)\n",
    "scores"
   ]
  },
  {
   "cell_type": "code",
   "execution_count": 34,
   "metadata": {
    "collapsed": false
   },
   "outputs": [
    {
     "data": {
      "text/plain": [
       "array([ 0.3496994 ,  0.40060241,  0.16800805,  0.18850806,  0.16834677])"
      ]
     },
     "execution_count": 34,
     "metadata": {},
     "output_type": "execute_result"
    }
   ],
   "source": [
    "clf = GaussianNB()\n",
    "scores = cross_val_score(clf, X, y, cv=5)\n",
    "scores"
   ]
  }
 ],
 "metadata": {
  "anaconda-cloud": {},
  "kernelspec": {
   "display_name": "Python [conda root]",
   "language": "python",
   "name": "conda-root-py"
  },
  "language_info": {
   "codemirror_mode": {
    "name": "ipython",
    "version": 2
   },
   "file_extension": ".py",
   "mimetype": "text/x-python",
   "name": "python",
   "nbconvert_exporter": "python",
   "pygments_lexer": "ipython2",
   "version": "2.7.12"
  }
 },
 "nbformat": 4,
 "nbformat_minor": 1
}
