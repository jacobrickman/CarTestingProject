{
 "cells": [
  {
   "cell_type": "code",
   "execution_count": 1,
   "metadata": {
    "collapsed": false
   },
   "outputs": [
    {
     "name": "stderr",
     "output_type": "stream",
     "text": [
      "/Users/JacobRickman/anaconda/lib/python2.7/site-packages/matplotlib/font_manager.py:273: UserWarning: Matplotlib is building the font cache using fc-list. This may take a moment.\n",
      "  warnings.warn('Matplotlib is building the font cache using fc-list. This may take a moment.')\n"
     ]
    }
   ],
   "source": [
    "%matplotlib inline\n",
    "\n",
    "import matplotlib\n",
    "import matplotlib.pyplot as plt\n",
    "import pandas as pd\n",
    "import numpy as np"
   ]
  },
  {
   "cell_type": "code",
   "execution_count": 2,
   "metadata": {
    "collapsed": true
   },
   "outputs": [],
   "source": [
    "pressure_df = pd.read_csv('Data_Table.csv')"
   ]
  },
  {
   "cell_type": "code",
   "execution_count": 3,
   "metadata": {
    "collapsed": false
   },
   "outputs": [
    {
     "data": {
      "text/html": [
       "<div>\n",
       "<table border=\"1\" class=\"dataframe\">\n",
       "  <thead>\n",
       "    <tr style=\"text-align: right;\">\n",
       "      <th></th>\n",
       "      <th>port_6</th>\n",
       "      <th>port_7</th>\n",
       "      <th>port_8</th>\n",
       "      <th>port_9</th>\n",
       "      <th>port_10</th>\n",
       "      <th>port_11</th>\n",
       "      <th>port_12</th>\n",
       "      <th>port_13</th>\n",
       "      <th>port_14</th>\n",
       "      <th>port_15</th>\n",
       "      <th>...</th>\n",
       "      <th>port_25</th>\n",
       "      <th>port_26</th>\n",
       "      <th>port_27</th>\n",
       "      <th>port_28</th>\n",
       "      <th>port_29</th>\n",
       "      <th>port_31</th>\n",
       "      <th>port_32</th>\n",
       "      <th>time</th>\n",
       "      <th>lap_#</th>\n",
       "      <th>event_label</th>\n",
       "    </tr>\n",
       "  </thead>\n",
       "  <tbody>\n",
       "    <tr>\n",
       "      <th>0</th>\n",
       "      <td>-26.464792</td>\n",
       "      <td>-27.324189</td>\n",
       "      <td>-27.560509</td>\n",
       "      <td>-25.09996</td>\n",
       "      <td>-21.295051</td>\n",
       "      <td>-23.501245</td>\n",
       "      <td>-24.445379</td>\n",
       "      <td>-23.645151</td>\n",
       "      <td>-24.094604</td>\n",
       "      <td>-24.435158</td>\n",
       "      <td>...</td>\n",
       "      <td>-23.271008</td>\n",
       "      <td>-22.97566</td>\n",
       "      <td>-22.50127</td>\n",
       "      <td>-21.892168</td>\n",
       "      <td>-21.188323</td>\n",
       "      <td>-20.723806</td>\n",
       "      <td>-20.644381</td>\n",
       "      <td>745.81</td>\n",
       "      <td>lap_1</td>\n",
       "      <td>event_1</td>\n",
       "    </tr>\n",
       "    <tr>\n",
       "      <th>1</th>\n",
       "      <td>-26.122792</td>\n",
       "      <td>-27.324189</td>\n",
       "      <td>-27.391509</td>\n",
       "      <td>-24.56376</td>\n",
       "      <td>-22.193451</td>\n",
       "      <td>-24.356245</td>\n",
       "      <td>-24.625179</td>\n",
       "      <td>-24.332151</td>\n",
       "      <td>-24.810504</td>\n",
       "      <td>-24.984658</td>\n",
       "      <td>...</td>\n",
       "      <td>-23.616308</td>\n",
       "      <td>-21.79216</td>\n",
       "      <td>-21.53207</td>\n",
       "      <td>-22.230968</td>\n",
       "      <td>-22.356823</td>\n",
       "      <td>-21.562506</td>\n",
       "      <td>-21.642781</td>\n",
       "      <td>746.13</td>\n",
       "      <td>lap_1</td>\n",
       "      <td>event_1</td>\n",
       "    </tr>\n",
       "    <tr>\n",
       "      <th>2</th>\n",
       "      <td>-24.415092</td>\n",
       "      <td>-26.206289</td>\n",
       "      <td>-27.051509</td>\n",
       "      <td>-24.92126</td>\n",
       "      <td>-21.295051</td>\n",
       "      <td>-23.672245</td>\n",
       "      <td>-23.905979</td>\n",
       "      <td>-23.130151</td>\n",
       "      <td>-23.378804</td>\n",
       "      <td>-23.153058</td>\n",
       "      <td>...</td>\n",
       "      <td>-20.335408</td>\n",
       "      <td>-19.42556</td>\n",
       "      <td>-19.59357</td>\n",
       "      <td>-20.367668</td>\n",
       "      <td>-20.353623</td>\n",
       "      <td>-20.388306</td>\n",
       "      <td>-20.477981</td>\n",
       "      <td>746.45</td>\n",
       "      <td>lap_1</td>\n",
       "      <td>event_1</td>\n",
       "    </tr>\n",
       "    <tr>\n",
       "      <th>3</th>\n",
       "      <td>-25.098192</td>\n",
       "      <td>-26.578889</td>\n",
       "      <td>-26.542509</td>\n",
       "      <td>-25.63626</td>\n",
       "      <td>-22.193451</td>\n",
       "      <td>-24.698245</td>\n",
       "      <td>-24.984679</td>\n",
       "      <td>-24.503151</td>\n",
       "      <td>-24.810504</td>\n",
       "      <td>-25.350958</td>\n",
       "      <td>...</td>\n",
       "      <td>-21.544108</td>\n",
       "      <td>-20.77796</td>\n",
       "      <td>-20.23967</td>\n",
       "      <td>-20.198268</td>\n",
       "      <td>-20.520623</td>\n",
       "      <td>-19.717306</td>\n",
       "      <td>-19.645981</td>\n",
       "      <td>746.77</td>\n",
       "      <td>lap_1</td>\n",
       "      <td>event_1</td>\n",
       "    </tr>\n",
       "    <tr>\n",
       "      <th>4</th>\n",
       "      <td>-24.415092</td>\n",
       "      <td>-25.461089</td>\n",
       "      <td>-25.693509</td>\n",
       "      <td>-23.31256</td>\n",
       "      <td>-20.576351</td>\n",
       "      <td>-22.988245</td>\n",
       "      <td>-23.007079</td>\n",
       "      <td>-22.615151</td>\n",
       "      <td>-22.662904</td>\n",
       "      <td>-23.153058</td>\n",
       "      <td>...</td>\n",
       "      <td>-20.508008</td>\n",
       "      <td>-19.93266</td>\n",
       "      <td>-19.91657</td>\n",
       "      <td>-19.859568</td>\n",
       "      <td>-19.519023</td>\n",
       "      <td>-19.717306</td>\n",
       "      <td>-19.645981</td>\n",
       "      <td>747.09</td>\n",
       "      <td>lap_1</td>\n",
       "      <td>event_1</td>\n",
       "    </tr>\n",
       "  </tbody>\n",
       "</table>\n",
       "<p>5 rows × 29 columns</p>\n",
       "</div>"
      ],
      "text/plain": [
       "      port_6     port_7     port_8    port_9    port_10    port_11    port_12  \\\n",
       "0 -26.464792 -27.324189 -27.560509 -25.09996 -21.295051 -23.501245 -24.445379   \n",
       "1 -26.122792 -27.324189 -27.391509 -24.56376 -22.193451 -24.356245 -24.625179   \n",
       "2 -24.415092 -26.206289 -27.051509 -24.92126 -21.295051 -23.672245 -23.905979   \n",
       "3 -25.098192 -26.578889 -26.542509 -25.63626 -22.193451 -24.698245 -24.984679   \n",
       "4 -24.415092 -25.461089 -25.693509 -23.31256 -20.576351 -22.988245 -23.007079   \n",
       "\n",
       "     port_13    port_14    port_15     ...         port_25   port_26  \\\n",
       "0 -23.645151 -24.094604 -24.435158     ...      -23.271008 -22.97566   \n",
       "1 -24.332151 -24.810504 -24.984658     ...      -23.616308 -21.79216   \n",
       "2 -23.130151 -23.378804 -23.153058     ...      -20.335408 -19.42556   \n",
       "3 -24.503151 -24.810504 -25.350958     ...      -21.544108 -20.77796   \n",
       "4 -22.615151 -22.662904 -23.153058     ...      -20.508008 -19.93266   \n",
       "\n",
       "    port_27    port_28    port_29    port_31    port_32    time  lap_#  \\\n",
       "0 -22.50127 -21.892168 -21.188323 -20.723806 -20.644381  745.81  lap_1   \n",
       "1 -21.53207 -22.230968 -22.356823 -21.562506 -21.642781  746.13  lap_1   \n",
       "2 -19.59357 -20.367668 -20.353623 -20.388306 -20.477981  746.45  lap_1   \n",
       "3 -20.23967 -20.198268 -20.520623 -19.717306 -19.645981  746.77  lap_1   \n",
       "4 -19.91657 -19.859568 -19.519023 -19.717306 -19.645981  747.09  lap_1   \n",
       "\n",
       "   event_label  \n",
       "0      event_1  \n",
       "1      event_1  \n",
       "2      event_1  \n",
       "3      event_1  \n",
       "4      event_1  \n",
       "\n",
       "[5 rows x 29 columns]"
      ]
     },
     "execution_count": 3,
     "metadata": {},
     "output_type": "execute_result"
    }
   ],
   "source": [
    "pressure_df.head()"
   ]
  },
  {
   "cell_type": "code",
   "execution_count": 5,
   "metadata": {
    "collapsed": false
   },
   "outputs": [
    {
     "ename": "SyntaxError",
     "evalue": "invalid syntax (<ipython-input-5-f8abbb43a5bb>, line 2)",
     "output_type": "error",
     "traceback": [
      "\u001b[0;36m  File \u001b[0;32m\"<ipython-input-5-f8abbb43a5bb>\"\u001b[0;36m, line \u001b[0;32m2\u001b[0m\n\u001b[0;31m    event 'event_1'\u001b[0m\n\u001b[0m                  ^\u001b[0m\n\u001b[0;31mSyntaxError\u001b[0m\u001b[0;31m:\u001b[0m invalid syntax\n"
     ]
    }
   ],
   "source": [
    "#event = ['event_1', 'event_2', 'event_3', 'event_4', 'event_5']\n",
    "event = 'event_1'\n",
    "lap_1 = pressure_df.loc[pressure_df['event_label'] == event]\n",
    "\n",
    "lap_1.head()"
   ]
  },
  {
   "cell_type": "code",
   "execution_count": null,
   "metadata": {
    "collapsed": true
   },
   "outputs": [],
   "source": []
  }
 ],
 "metadata": {
  "anaconda-cloud": {},
  "kernelspec": {
   "display_name": "Python [conda root]",
   "language": "python",
   "name": "conda-root-py"
  },
  "language_info": {
   "codemirror_mode": {
    "name": "ipython",
    "version": 2
   },
   "file_extension": ".py",
   "mimetype": "text/x-python",
   "name": "python",
   "nbconvert_exporter": "python",
   "pygments_lexer": "ipython2",
   "version": "2.7.12"
  }
 },
 "nbformat": 4,
 "nbformat_minor": 1
}
